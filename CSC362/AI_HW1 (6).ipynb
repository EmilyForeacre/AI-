{
  "nbformat": 4,
  "nbformat_minor": 0,
  "metadata": {
    "colab": {
      "provenance": [],
      "authorship_tag": "ABX9TyOQZClcNoZAHwh9TxAMZ4dY",
      "include_colab_link": true
    },
    "kernelspec": {
      "name": "python3",
      "display_name": "Python 3"
    },
    "language_info": {
      "name": "python"
    }
  },
  "cells": [
    {
      "cell_type": "markdown",
      "metadata": {
        "id": "view-in-github",
        "colab_type": "text"
      },
      "source": [
        "<a href=\"https://colab.research.google.com/github/EmilyForeacre/AI/blob/main/AI_HW1.ipynb\" target=\"_parent\"><img src=\"https://colab.research.google.com/assets/colab-badge.svg\" alt=\"Open In Colab\"/></a>"
      ]
    },
    {
      "cell_type": "markdown",
      "source": [
        "<a href=\"https://colab.research.google.com/github/EmilyForeacre/AI/blob/main/AI/HW1.ipynb\" target=\"_parent\"><img src=\"https://colab.research.google.com/assets/colab-badge.svg\" alt=\"Open In Colab\"/></a>"
      ],
      "metadata": {
        "id": "vWF4oyKtfL5h"
      }
    },
    {
      "cell_type": "markdown",
      "source": [
        "## Production Systems in AI\n",
        "A production system is a type of computational model used primarily for automated reasoning, problem solving, and expert systems.\n",
        "\n",
        "It's based on a set of rules (productions) and a control system that applies these rules to reach conclusions or make decisions.\n",
        "\n",
        "Start State: This is the initial configuration or condition of the system (stored in the working memory or knowledge base).\n",
        "\n",
        "Goal State: This is the desired end condition or solution that the system tries to reach by applying rules.\n",
        "\n",
        "Rule Application: Rules are applied iteratively to transform the state.\n",
        "\n",
        "Goal Test: After each rule application, the system checks if the goal state has been reached.\n",
        "\n",
        "Termination: The system stops either when The goal state is achieved, or no applicable rules remain."
      ],
      "metadata": {
        "id": "-Omqp1_JVMJG"
      }
    },
    {
      "cell_type": "markdown",
      "source": [
        "# **The Water Jug Puzzle**"
      ],
      "metadata": {
        "id": "8f_2-BEEJrXx"
      }
    },
    {
      "cell_type": "markdown",
      "source": [
        "You have two jugs of water, a five liter jug and a three liter jug. You can fill and empty the jugs as much as you want. how can you get exactly four liters into the five liter jug?"
      ],
      "metadata": {
        "id": "eCN_7NU2J1y6"
      }
    },
    {
      "cell_type": "markdown",
      "source": [
        "# **Start State**\n",
        "\n",
        "[5 liter jug: 0, 3 liter jug: 0]\n",
        "\n",
        "[0,0]"
      ],
      "metadata": {
        "id": "P_GGIkayV9Tx"
      }
    },
    {
      "cell_type": "markdown",
      "source": [
        "# **Goal State**\n",
        "\n",
        "[5 liter jug: 4, 3 liter jug: 3]\n",
        "\n",
        "[4,3]\n",
        "\n",
        "Assumtions: It doesn't truly matter how many liters are in the 3 liter jug by the end of the puzzle as long as it isn't less then 0, more then 3, and the 5 liter jug has 4 liters in it, but due to the nature of the puzzle the 3 liter jug will have 3 liters in it."
      ],
      "metadata": {
        "id": "EL5FKPHJXHsP"
      }
    },
    {
      "cell_type": "markdown",
      "source": [
        "# The Solution"
      ],
      "metadata": {
        "id": "Ma4UjEhcKZE9"
      }
    },
    {
      "cell_type": "markdown",
      "source": [
        "1. Fill the large jug\n",
        "2. fill the small jug water from the large jug\n",
        "3. empty the small jug\n",
        "4. pour the remaining two liters from the large jug into the small jug\n",
        "5. refill the large jug, 6. pour one liter from the large jug into the small jug."
      ],
      "metadata": {
        "id": "i6MGV24HZxvM"
      }
    },
    {
      "cell_type": "code",
      "source": [
        "class WaterJugPuzzle():\n",
        "\n",
        "# We model the state using two sets of strings:\n",
        "    def __init__(self):\n",
        "        # state = (amount in 5 liter jug, amount in 3 liter jug)\n",
        "        self.state = (0, 0)\n",
        "        self.capacity = (5, 3)  # jug sizes (5 and 3 liters)\n",
        "\n",
        "    def state_ok(self):\n",
        "        # jug amounts must be within valid range (can't be less then 0 and can't be more then how big the jug is)\n",
        "        a, b = self.state\n",
        "        return (0 <= a <= self.capacity[0]) and (0 <= b <= self.capacity[1])\n",
        "\n",
        "    def save_state(self):\n",
        "        self._state = self.state\n",
        "\n",
        "    def undo_state(self):\n",
        "        self.state = self._state\n",
        "\n",
        "\n",
        "####################################################################\n",
        "# Rule 1: Fill tge 5 liter jug\n",
        "####################################################################\n",
        "    def R1_fill_5(self):\n",
        "        self.save_state()\n",
        "        self.state = (self.capacity[0], self.state[1])\n",
        "        if not self.state_ok():\n",
        "            self.undo_state()\n",
        "\n",
        "####################################################################\n",
        "# Rule 2: Fill the 3 lier jug\n",
        "####################################################################\n",
        "    def R2_fill_3(self):\n",
        "        self.save_state()\n",
        "        self.state = (self.state[0], self.capacity[1])\n",
        "        if not self.state_ok(): self.undo_state()\n",
        "\n",
        "####################################################################\n",
        "# Rule 3: Empty the 5 liter jug\n",
        "####################################################################\n",
        "    def R3_empty_5(self):\n",
        "        self.save_state()\n",
        "        self.state = (0, self.state[1])\n",
        "        if not self.state_ok(): self.undo_state()\n",
        "\n",
        "####################################################################\n",
        "# Rule 4: Empty the 3 liter jug\n",
        "####################################################################\n",
        "    def R4_empty_3(self):\n",
        "        self.save_state()\n",
        "        self.state = (self.state[0], 0)\n",
        "        if not self.state_ok(): self.undo_state()\n",
        "\n",
        "####################################################################\n",
        "# Rule 5: Pour the 5 liter into the 3 liter jug\n",
        "# - If the 3 liter jug is not empty, you can only pour enough to fill it up.\n",
        "# - If the 5 liter jug has more water than the space left in the 3 liter jug,\n",
        "#   only part of the 5 liter jug can be transferred.\n",
        "####################################################################\n",
        "    def R5_pour_5_to_3(self):\n",
        "        self.save_state()\n",
        "        a, b = self.state\n",
        "        transfer = min(a, self.capacity[1] - b)\n",
        "        self.state = (a - transfer, b + transfer)\n",
        "        if not self.state_ok(): self.undo_state()\n",
        "\n",
        "####################################################################\n",
        "# Rule 6: Pour the 3 liter into the 5 liter jug\n",
        "####################################################################\n",
        "    def R6_pour_3_to_5(self):\n",
        "        self.save_state()\n",
        "        a, b = self.state\n",
        "        transfer = min(b, self.capacity[0] - a)\n",
        "        self.state = (a + transfer, b - transfer)\n",
        "        if not self.state_ok(): self.undo_state()\n",
        "\n",
        "####################################################################\n",
        "# Display how much water is where\n",
        "####################################################################\n",
        "    def print_state(self):\n",
        "        print(f\"5 liter jug: {self.state[0]} | 3 liter jug: {self.state[1]}\")\n"
      ],
      "metadata": {
        "id": "4iXpVzLAKcY5"
      },
      "execution_count": null,
      "outputs": []
    },
    {
      "cell_type": "code",
      "source": [
        "waterJug = WaterJugPuzzle()\n",
        "\n",
        "# print the initial state\n",
        "waterJug.print_state()\n",
        "\n",
        "\n",
        "print(\"-----------------------\")\n",
        "# apply a rule and print the resulting state\n",
        "waterJug.R1_fill_5()\n",
        "waterJug.print_state()\n",
        "\n",
        "print(\"-----------------------\")\n",
        "waterJug.R5_pour_5_to_3()\n",
        "waterJug.print_state()\n",
        "\n",
        "print(\"-----------------------\")\n",
        "waterJug.R4_empty_3()\n",
        "waterJug.print_state()\n",
        "\n",
        "print(\"-----------------------\")\n",
        "waterJug.R5_pour_5_to_3()\n",
        "waterJug.print_state()\n",
        "\n",
        "print(\"-----------------------\")\n",
        "waterJug.R1_fill_5()\n",
        "waterJug.print_state()\n",
        "\n",
        "print(\"-----------------------\")\n",
        "waterJug.R5_pour_5_to_3()\n",
        "waterJug.print_state()"
      ],
      "metadata": {
        "colab": {
          "base_uri": "https://localhost:8080/"
        },
        "id": "gdJcyvlHOQSR",
        "outputId": "35170bd5-0965-4ff9-dfe8-ecd7bef17319"
      },
      "execution_count": null,
      "outputs": [
        {
          "output_type": "stream",
          "name": "stdout",
          "text": [
            "5 liter jug: 0 | 3 liter jug: 0\n",
            "-----------------------\n",
            "5 liter jug: 5 | 3 liter jug: 0\n",
            "-----------------------\n",
            "5 liter jug: 2 | 3 liter jug: 3\n",
            "-----------------------\n",
            "5 liter jug: 2 | 3 liter jug: 0\n",
            "-----------------------\n",
            "5 liter jug: 0 | 3 liter jug: 2\n",
            "-----------------------\n",
            "5 liter jug: 5 | 3 liter jug: 2\n",
            "-----------------------\n",
            "5 liter jug: 4 | 3 liter jug: 3\n"
          ]
        }
      ]
    }
  ]
}